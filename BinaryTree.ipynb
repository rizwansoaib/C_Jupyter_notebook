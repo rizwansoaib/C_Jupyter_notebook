{
 "cells": [
  {
   "cell_type": "markdown",
   "metadata": {},
   "source": [
    "# Tree Introduction"
   ]
  },
  {
   "cell_type": "markdown",
   "metadata": {},
   "source": [
    "Tree is non linear data structre way of representing hierarchical nature of structre in graphical form."
   ]
  },
  {
   "cell_type": "markdown",
   "metadata": {},
   "source": [
    "## Glossary"
   ]
  },
  {
   "cell_type": "markdown",
   "metadata": {},
   "source": [
    "root=Node with no parents\n",
    "\n",
    "edge=Link from parent to child\n",
    "\n",
    "leaf node=Node with no children\n",
    "\n",
    "sibling=Children of same parents\n",
    "\n",
    "level=depth (root node level 0)\n",
    "\n",
    "depth=Length of path from root to that node\n",
    "\n",
    "size=no. of descendants including itself"
   ]
  },
  {
   "cell_type": "markdown",
   "metadata": {},
   "source": [
    "![](tree2.jpg)"
   ]
  },
  {
   "cell_type": "markdown",
   "metadata": {},
   "source": [
    "## Binary Trees"
   ]
  },
  {
   "cell_type": "markdown",
   "metadata": {},
   "source": [
    "Every node has maximum 2 child.Empty tree is also valid Binary tree"
   ]
  },
  {
   "cell_type": "markdown",
   "metadata": {},
   "source": [
    "## Properties of Binary Trees"
   ]
  },
  {
   "cell_type": "markdown",
   "metadata": {},
   "source": [
    "###  The number of nodes n in full binary tree is 2<sup>h+1</sup>-1  where   h=levels\n",
    "### Minimum=2<sup>h</sup>  \n",
    "### Maximum=2<sup>h+1</sup>-1"
   ]
  },
  {
   "cell_type": "markdown",
   "metadata": {},
   "source": [
    "### Number of leaf nodes in full binary tree 2<sup>h</sup>"
   ]
  },
  {
   "cell_type": "markdown",
   "metadata": {},
   "source": [
    "## Structre of Binary Trees"
   ]
  },
  {
   "cell_type": "code",
   "execution_count": 1,
   "metadata": {},
   "outputs": [],
   "source": [
    "#include<bits/stdc++.h>"
   ]
  },
  {
   "cell_type": "code",
   "execution_count": 2,
   "metadata": {},
   "outputs": [],
   "source": [
    "using namespace std;"
   ]
  },
  {
   "cell_type": "code",
   "execution_count": 3,
   "metadata": {},
   "outputs": [],
   "source": [
    "struct Node()\n",
    "{\n",
    "    int data;\n",
    "    struct Node *left,*right;\n",
    "    \n",
    "    Node(int data)\n",
    "    {\n",
    "        this->data=data;\n",
    "        left=right=NULL:\n",
    "    }\n",
    "};"
   ]
  },
  {
   "cell_type": "markdown",
   "metadata": {},
   "source": [
    "### Operations on Binary Trees"
   ]
  },
  {
   "cell_type": "markdown",
   "metadata": {},
   "source": [
    "#### Basic operations"
   ]
  },
  {
   "cell_type": "markdown",
   "metadata": {},
   "source": [
    "* Insert\n",
    "* Delete\n",
    "* Searching\n",
    "* Traversing"
   ]
  },
  {
   "cell_type": "markdown",
   "metadata": {},
   "source": [
    "#### Auxiliary operations"
   ]
  },
  {
   "cell_type": "markdown",
   "metadata": {},
   "source": [
    "* Size\n",
    "* Height\n",
    "* Max sum\n",
    "* LCA(least common ancestor)"
   ]
  },
  {
   "cell_type": "markdown",
   "metadata": {},
   "source": [
    "### Traversals"
   ]
  },
  {
   "cell_type": "markdown",
   "metadata": {},
   "source": [
    "* Preorder\n",
    "* Inorder\n",
    "* Postorder\n",
    "* Levelorder"
   ]
  },
  {
   "cell_type": "markdown",
   "metadata": {},
   "source": [
    "#### Preorder Traversals"
   ]
  },
  {
   "cell_type": "code",
   "execution_count": 4,
   "metadata": {},
   "outputs": [],
   "source": [
    "void pre_order(struct Node *root)\n",
    "{\n",
    "    if(root==NULL)\n",
    "    return;\n",
    "    cout<<root->data<<\" \";\n",
    "    pre_order(root->left);\n",
    "    pre_order(root->right);\n",
    "}"
   ]
  },
  {
   "cell_type": "markdown",
   "metadata": {},
   "source": [
    "#### Inorder Traversals"
   ]
  },
  {
   "cell_type": "code",
   "execution_count": 5,
   "metadata": {},
   "outputs": [],
   "source": [
    "void in_order(struct Node *root)\n",
    "{\n",
    "    if(root==NULL)\n",
    "    return;\n",
    "   \n",
    "    in_order(root->left);\n",
    "    cout<<root->data<<\" \";\n",
    "    in_order(root->right);\n",
    "}\n"
   ]
  },
  {
   "cell_type": "markdown",
   "metadata": {},
   "source": [
    "#### postrder Traversals\n"
   ]
  },
  {
   "cell_type": "code",
   "execution_count": 6,
   "metadata": {},
   "outputs": [],
   "source": [
    "void post_order(struct Node *root)\n",
    "{\n",
    "    if(root==NULL)\n",
    "    return;\n",
    "   \n",
    "    post_order(root->left);\n",
    "    post_order(root->right);\n",
    "    cout<<root->data<<\" \";\n",
    "}\n"
   ]
  },
  {
   "cell_type": "markdown",
   "metadata": {},
   "source": [
    "#### LevelOrder using BFS"
   ]
  },
  {
   "cell_type": "markdown",
   "metadata": {},
   "source": [
    "#             \"                         Thank You    \""
   ]
  },
  {
   "cell_type": "code",
   "execution_count": null,
   "metadata": {},
   "outputs": [],
   "source": []
  }
 ],
 "metadata": {
  "kernelspec": {
   "display_name": "C++14",
   "language": "C++14",
   "name": "xcpp14"
  },
  "language_info": {
   "codemirror_mode": "text/x-c++src",
   "file_extension": ".cpp",
   "mimetype": "text/x-c++src",
   "name": "c++",
   "version": "-std=c++14"
  }
 },
 "nbformat": 4,
 "nbformat_minor": 2
}
